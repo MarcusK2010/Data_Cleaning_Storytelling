{
  "nbformat": 4,
  "nbformat_minor": 0,
  "metadata": {
    "colab": {
      "provenance": [],
      "toc_visible": true
    },
    "kernelspec": {
      "name": "python3",
      "display_name": "Python 3"
    },
    "language_info": {
      "name": "python"
    }
  },
  "cells": [
    {
      "cell_type": "markdown",
      "source": [
        "## 7. Data Quality"
      ],
      "metadata": {
        "id": "MtKKF7sJFAF7"
      }
    },
    {
      "cell_type": "code",
      "source": [
        "import pandas as pd\n",
        "\n",
        "def gd_path(file_id):\n",
        "    \"\"\"Generate a shareable link from Google Drive file id.\"\"\"\n",
        "    return f\"https://drive.google.com/uc?export=download&id={file_id}\"\n",
        "\n",
        "# Google Drive file ids\n",
        "file_ids = {\n",
        "    \"brands\": \"14_RkEUuhf9-otJqbVITDTvus45zR8LJp\",\n",
        "    \"orderlines\": \"18Tzi4SxwYsijRdhvUQUGSdi0A2WzlzA9\",\n",
        "    \"orders\": \"14HwyeNbaWy8IZ9BkwbDSxfDURHUtJzJ7\",\n",
        "    \"products\": \"1Rpo8POQKb_rWvWQczlyOJOqIZgmZSRjD\",\n",
        "}\n",
        "\n",
        "# Read data from Google Drive\n",
        "brands_cl = pd.read_csv(gd_path(file_ids[\"brands\"]), sep=\",\")\n",
        "orderlines_cl = pd.read_csv(gd_path(file_ids[\"orderlines\"]), sep=\",\", parse_dates=[\"date\"])\n",
        "orders_cl = pd.read_csv(gd_path(file_ids[\"orders\"]), sep=\",\", parse_dates=[\"created_date\"])\n",
        "products_cl = pd.read_csv(gd_path(file_ids[\"products\"]), sep=\",\")"
      ],
      "metadata": {
        "id": "bGHeJjXxa4EN"
      },
      "execution_count": null,
      "outputs": []
    },
    {
      "cell_type": "markdown",
      "source": [
        "---\n",
        "<font color=\"red\"> The code below will create copies of each of the clean datasets:\n",
        "* `brands_cl` --> `brands_df`\n",
        "* `orderlines_cl` --> `orderlines_df`\n",
        "* `orders_cl` --> `orders_df`\n",
        "* `products_cl` --> `products_df`\n",
        "---"
      ],
      "metadata": {
        "id": "jASgmQPjRduZ"
      }
    },
    {
      "cell_type": "code",
      "source": [
        "brands_df = brands_cl.copy()\n",
        "orderlines_df = orderlines_cl.copy()\n",
        "orders_df = orders_cl.copy()\n",
        "products_df = products_cl.copy()"
      ],
      "metadata": {
        "id": "aBHryIU-UOYp"
      },
      "execution_count": null,
      "outputs": []
    },
    {
      "cell_type": "markdown",
      "source": [
        "### 7.1. Define Pandas display format"
      ],
      "metadata": {
        "id": "GjQD8WPe6h0i"
      }
    },
    {
      "cell_type": "code",
      "execution_count": null,
      "metadata": {
        "id": "SLikKmNx4WNo"
      },
      "outputs": [],
      "source": [
        "import pandas as pd\n",
        "pd.set_option('display.float_format', lambda x: '%.2f' % x)\n",
        "# sets the number of digits after the decimal point to 2\n",
        "pd.set_option('display.max_rows', 1000)\n",
        "# sets the max rows to be displayed to 1.000"
      ]
    },
    {
      "cell_type": "markdown",
      "source": [
        "### 7.2. Exclude unwanted orders"
      ],
      "metadata": {
        "id": "M0NhTKzF6jV4"
      }
    },
    {
      "cell_type": "code",
      "source": [
        "orders_df.info()"
      ],
      "metadata": {
        "id": "YfPWQqNrMo58"
      },
      "execution_count": null,
      "outputs": []
    },
    {
      "cell_type": "code",
      "source": [
        "orders_df[\"state\"].unique()"
      ],
      "metadata": {
        "id": "ja0XpsDDkZrT"
      },
      "execution_count": null,
      "outputs": []
    },
    {
      "cell_type": "markdown",
      "source": [
        "Only keep `\"Completed\"`"
      ],
      "metadata": {
        "id": "vscaci1nmj36"
      }
    },
    {
      "cell_type": "code",
      "source": [
        "# we only keep orders with the status of \"Completed\" and save it in `orders_comp_df`\n",
        "orders_completed_df = orders_df.loc[orders_df[\"state\"].isin([\"Completed\"])]"
      ],
      "metadata": {
        "id": "eER3p62jOD1Z"
      },
      "execution_count": null,
      "outputs": []
    },
    {
      "cell_type": "code",
      "source": [
        "orders_completed_df.info()"
      ],
      "metadata": {
        "id": "pFlLs0GdjWBG"
      },
      "execution_count": null,
      "outputs": []
    },
    {
      "cell_type": "code",
      "source": [
        "# we create a list of \"order_id\" for later reference\n",
        "orders_completed_list = list(orders_comp_df[\"order_id\"])"
      ],
      "metadata": {
        "id": "MU5p7-1liZX0"
      },
      "execution_count": null,
      "outputs": []
    },
    {
      "cell_type": "code",
      "source": [
        "# we update `orders_qu` in accordance with the list above\n",
        "orders_qu = orders_df.loc[orders_cl[\"order_id\"].isin(orders_completed_list), :].copy()"
      ],
      "metadata": {
        "id": "pmto4vKUjI9k"
      },
      "execution_count": null,
      "outputs": []
    },
    {
      "cell_type": "code",
      "source": [
        "orders_qu.info()"
      ],
      "metadata": {
        "id": "gqjNLVnikxtT"
      },
      "execution_count": null,
      "outputs": []
    },
    {
      "cell_type": "code",
      "source": [
        "# we update `orderlines_qu` in accordance with the list above\n",
        "orderlines_qu = orderlines_df.loc[orderlines_cl[\"id_order\"].isin(orders_completed_list), :].copy()"
      ],
      "metadata": {
        "id": "Vml2Zjybk6G-"
      },
      "execution_count": null,
      "outputs": []
    },
    {
      "cell_type": "code",
      "source": [
        "orderlines_qu.info()"
      ],
      "metadata": {
        "id": "qhmlFeX4lFu6"
      },
      "execution_count": null,
      "outputs": []
    },
    {
      "cell_type": "markdown",
      "source": [
        "Only keep orders that are present in both `orders` and `orderlines`"
      ],
      "metadata": {
        "id": "dx7cZFAOmr5K"
      }
    },
    {
      "cell_type": "code",
      "source": [
        "# counts the unique \"order_id\"s\n",
        "orders_qu.order_id.nunique()\n",
        "# should be 46605"
      ],
      "metadata": {
        "id": "duQ5XMYFnFkH"
      },
      "execution_count": null,
      "outputs": []
    },
    {
      "cell_type": "code",
      "source": [
        "# counts the unique \"id_order\"s\n",
        "orderlines_qu.id_order.nunique()\n",
        "# should be 43064"
      ],
      "metadata": {
        "id": "M_r6VpJKnZ9m"
      },
      "execution_count": null,
      "outputs": []
    },
    {
      "cell_type": "code",
      "source": [
        "# inner merge of orderlines_qu and orders_qu\n",
        "orders_orderlines_qu_merged = orders_qu.merge(\n",
        "    orderlines_qu,\n",
        "    how=\"inner\",\n",
        "    left_on=\"order_id\",\n",
        "    right_on=\"id_order\"\n",
        ")"
      ],
      "metadata": {
        "id": "M_7gBNt6nm6A"
      },
      "execution_count": null,
      "outputs": []
    },
    {
      "cell_type": "code",
      "source": [
        "# create a list of the matching \"order_id\"s and \"id_order\"s\n",
        "order_ids_in_both_list = list(orders_orderlines_qu_merged[\"order_id\"].unique())"
      ],
      "metadata": {
        "id": "Q4zCjTw9n8QL"
      },
      "execution_count": null,
      "outputs": []
    },
    {
      "cell_type": "code",
      "source": [
        "order_ids_in_both_list"
      ],
      "metadata": {
        "id": "SwBmJW1WqNSA"
      },
      "execution_count": null,
      "outputs": []
    },
    {
      "cell_type": "code",
      "source": [
        "# we update `orderlines_qu` in accordance with the list above\n",
        "orderlines_qu = orderlines_qu.loc[orderlines_qu[\"id_order\"].isin(order_ids_in_both_list), :].copy()"
      ],
      "metadata": {
        "id": "uyM4FNrNo76U"
      },
      "execution_count": null,
      "outputs": []
    },
    {
      "cell_type": "code",
      "source": [
        "# we update `orders_qu` in accordance with the list above\n",
        "orders_qu = orders_qu.loc[orders_qu[\"order_id\"].isin(order_ids_in_both_list), :].copy()"
      ],
      "metadata": {
        "id": "K1ozf4XQpDk6"
      },
      "execution_count": null,
      "outputs": []
    },
    {
      "cell_type": "code",
      "source": [
        "len(list(orders_qu[\"order_id\"].unique())), len(list(orderlines_qu[\"id_order\"].unique()))\n",
        "# should be (43064, 43064)"
      ],
      "metadata": {
        "id": "MHgVJm5Rpl4o",
        "colab": {
          "base_uri": "https://localhost:8080/"
        },
        "outputId": "dffa3de9-ad3d-493b-ba0b-e22f0e9de52f"
      },
      "execution_count": null,
      "outputs": [
        {
          "output_type": "execute_result",
          "data": {
            "text/plain": [
              "(43064, 43064)"
            ]
          },
          "metadata": {},
          "execution_count": 28
        }
      ]
    },
    {
      "cell_type": "markdown",
      "source": [
        "### 7.3. Exclude orders with unknown products\n"
      ],
      "metadata": {
        "id": "F-rtzwAn7WyS"
      }
    },
    {
      "cell_type": "code",
      "source": [
        "# make a list of known sku from `products_cl`\n",
        "known_sku_list = list(products_cl[\"sku\"])"
      ],
      "metadata": {
        "id": "yR3ynWftqwSU"
      },
      "execution_count": null,
      "outputs": []
    },
    {
      "cell_type": "code",
      "source": [
        "orderlines_qu.sku.isin(known_sku_list).value_counts()\n",
        "# should be 55304 True and 1410 False"
      ],
      "metadata": {
        "id": "80kl9lRMsA1D"
      },
      "execution_count": null,
      "outputs": []
    },
    {
      "cell_type": "markdown",
      "source": [
        "From `orderlines_qu` we're going to create a list of order_ids that are of unknown products. Products are unknown because we previously cleaned them out from the `products_df` on the way to `products_cl`."
      ],
      "metadata": {
        "id": "Sm0ynbFlssog"
      }
    },
    {
      "cell_type": "code",
      "source": [
        "orders_unknown_products_list = list(orderlines_qu.loc[~orderlines_qu.sku.isin(known_sku_list), \"id_order\"])"
      ],
      "metadata": {
        "id": "Kv5jApU5skDh"
      },
      "execution_count": null,
      "outputs": []
    },
    {
      "cell_type": "markdown",
      "source": [
        "Clear `orders_qu` and `orderlines_qu` of unknown products"
      ],
      "metadata": {
        "id": "ZTF15sJ9t1tp"
      }
    },
    {
      "cell_type": "code",
      "source": [
        "orders_qu = orders_qu.loc[~orders_qu[\"order_id\"].isin(orders_unknown_products_list), :].copy()\n",
        "orderlines_qu = orderlines_qu.loc[~orderlines_qu[\"id_order\"].isin(orders_unknown_products_list), :].copy()"
      ],
      "metadata": {
        "id": "3ShNNSxuuAON"
      },
      "execution_count": null,
      "outputs": []
    },
    {
      "cell_type": "code",
      "source": [
        "len(list(orders_qu[\"order_id\"].unique())), len(list(orderlines_qu[\"id_order\"].unique()))\n",
        "# should be (41685, 41685)"
      ],
      "metadata": {
        "id": "hIt7LvY-ubiv"
      },
      "execution_count": null,
      "outputs": []
    },
    {
      "cell_type": "markdown",
      "source": [
        "### 7.4. Explore the revenue from different tables"
      ],
      "metadata": {
        "id": "bCLu78B07gN1"
      }
    },
    {
      "cell_type": "code",
      "source": [
        "orderlines_qu_copy = orderlines_qu.copy()"
      ],
      "metadata": {
        "id": "_PlAo6eCv0-v"
      },
      "execution_count": null,
      "outputs": []
    },
    {
      "cell_type": "code",
      "source": [
        "orderlines_qu.info()"
      ],
      "metadata": {
        "id": "punUMh3-k-9q"
      },
      "execution_count": null,
      "outputs": []
    },
    {
      "cell_type": "markdown",
      "source": [
        "Step 1: Create the `unit_price_total` as `orderlines.unit_price` * `orderlines.product_quantity`"
      ],
      "metadata": {
        "id": "CrmrCXypbflw"
      }
    },
    {
      "cell_type": "code",
      "source": [
        "orderlines_qu_copy[\"unit_price_total\"] = orderlines_qu_copy[\"unit_price\"] * orderlines_qu_copy[\"product_quantity\"]"
      ],
      "metadata": {
        "id": "c8MApY6jatlO"
      },
      "execution_count": null,
      "outputs": []
    },
    {
      "cell_type": "markdown",
      "source": [
        "Step 2: Group by `order_id`, summarising by the sum of `unit_price_total`"
      ],
      "metadata": {
        "id": "gkvMUjymbvSC"
      }
    },
    {
      "cell_type": "code",
      "source": [
        "orderlines_qu_group_order_df = orderlines_qu_copy.groupby(\"id_order\", as_index=False)[\"unit_price_total\"].sum()"
      ],
      "metadata": {
        "id": "4hasZA5BaH1k"
      },
      "execution_count": null,
      "outputs": []
    },
    {
      "cell_type": "code",
      "source": [
        "orderlines_qu_group_order_df"
      ],
      "metadata": {
        "id": "aOH3iyh-xMlK"
      },
      "execution_count": null,
      "outputs": []
    },
    {
      "cell_type": "markdown",
      "source": [
        "### 7.5. What is the average difference between `total_paid` and `unit_price_total`?"
      ],
      "metadata": {
        "id": "_d1lwist8F6X"
      }
    },
    {
      "cell_type": "code",
      "source": [
        "orders_qu_copy = orders_qu.copy()"
      ],
      "metadata": {
        "id": "5N02JPCMgyBU"
      },
      "execution_count": null,
      "outputs": []
    },
    {
      "cell_type": "markdown",
      "source": [
        "Let's merge our grouped `orderlines` table with the `orders` table, so we can calculate the differences in prices."
      ],
      "metadata": {
        "id": "Y3l_P-Zpxryu"
      }
    },
    {
      "cell_type": "code",
      "source": [
        "diff_df = orders_qu_copy\n",
        "# inner merge of orderlines_qu and orders_qu\n",
        "diff_df = orders_qu_copy.merge(\n",
        "    orderlines_qu_group_order_df,\n",
        "    left_on=\"order_id\",\n",
        "    right_on=\"id_order\"\n",
        ")"
      ],
      "metadata": {
        "id": "YvVgsmAAMHZJ"
      },
      "execution_count": null,
      "outputs": []
    },
    {
      "cell_type": "code",
      "source": [
        "diff_df.info()"
      ],
      "metadata": {
        "id": "sSOs_xqZkpuB"
      },
      "execution_count": null,
      "outputs": []
    },
    {
      "cell_type": "code",
      "source": [
        "diff_df[\"difference\"] = diff_df[\"total_paid\"] - diff_df[\"unit_price_total\"]"
      ],
      "metadata": {
        "id": "gdVjmOu-yTVl"
      },
      "execution_count": null,
      "outputs": []
    },
    {
      "cell_type": "code",
      "source": [
        "diff_df.head()"
      ],
      "metadata": {
        "id": "ycnP2ea4yJmL"
      },
      "execution_count": null,
      "outputs": []
    },
    {
      "cell_type": "markdown",
      "source": [
        "What is the distribution of these differences?"
      ],
      "metadata": {
        "id": "UpynvRcO8QBr"
      }
    },
    {
      "cell_type": "code",
      "source": [
        "diff_df[\"difference\"].mean().round(2)\n",
        "# should be 4.48"
      ],
      "metadata": {
        "id": "O4RDNgttJSPD"
      },
      "execution_count": null,
      "outputs": []
    },
    {
      "cell_type": "markdown",
      "source": [
        "Can all the differences be explained by shipping costs? If not, what are other plausible explanations?"
      ],
      "metadata": {
        "id": "NINPK4rB8TSY"
      }
    },
    {
      "cell_type": "code",
      "source": [
        "diff_df[\"difference\"].hist(bins= 50, figsize=(8,6));"
      ],
      "metadata": {
        "id": "_6GvQ28EJUIf"
      },
      "execution_count": null,
      "outputs": []
    },
    {
      "cell_type": "code",
      "source": [
        "diff_df[\"difference\"].describe()"
      ],
      "metadata": {
        "id": "xcQmQRlKzes1"
      },
      "execution_count": null,
      "outputs": []
    },
    {
      "cell_type": "code",
      "source": [
        "diff_df.sort_values(\"difference\", ascending=False)\n",
        "# some differences can be seen as shipping costs but others habe a huge difference. Both very high or very low"
      ],
      "metadata": {
        "id": "e2tae9xJGq_I"
      },
      "execution_count": null,
      "outputs": []
    },
    {
      "cell_type": "markdown",
      "source": [
        "If there are differences that you can’t explain: what should you do with these orders?"
      ],
      "metadata": {
        "id": "xPos2ipK8VST"
      }
    },
    {
      "cell_type": "code",
      "source": [
        "# calculate the quartiles\n",
        "Q1 = diff_df[\"difference\"].quantile(0.25)\n",
        "Q3 = diff_df[\"difference\"].quantile(0.75)\n",
        "\n",
        "# calculate the interquartile range\n",
        "IQR = Q3-Q1\n",
        "\n",
        "# filter the DataFrame to include only \"non-outliers\"\n",
        "diff_no_outliers_df = diff_df.loc[(diff_df[\"difference\"] >= (Q1 - 1.5*IQR)) & (diff_df[\"difference\"] <= (Q3 + 1.5*IQR)), :]"
      ],
      "metadata": {
        "id": "NzqM1HMMiaq2"
      },
      "execution_count": null,
      "outputs": []
    },
    {
      "cell_type": "code",
      "source": [
        "diff_no_outliers_df.difference.hist(bins= 50, figsize=(8,6));\n",
        "# the outliers are deleted and the distribution is closer together"
      ],
      "metadata": {
        "id": "fBKVhn8DinlO"
      },
      "execution_count": null,
      "outputs": []
    },
    {
      "cell_type": "code",
      "source": [
        "normal_diff_list = list(diff_no_outliers_df[\"order_id\"])\n",
        "# the orders I just deleted also need to be deleted in the other tables.\n",
        "# This will create a list with all ids that are left (without outliers)"
      ],
      "metadata": {
        "id": "nODiw1FLmoNd"
      },
      "execution_count": null,
      "outputs": []
    },
    {
      "cell_type": "code",
      "source": [
        "orders_df = orders_df.loc[orders_df[\"order_id\"].isin(normal_diff_list), :]\n",
        "orderlines_df = orderlines_cl.loc[orderlines_cl[\"id_order\"].isin(normal_diff_list), :]\n",
        "# these lines will compare in both tables the Ids that are in the\n",
        "# normal_diff_list and the table and will only keep the matching ones."
      ],
      "metadata": {
        "id": "GG3wFvUunGdI"
      },
      "execution_count": null,
      "outputs": []
    },
    {
      "cell_type": "code",
      "source": [
        "len(list(orders_qu[\"order_id\"].unique())), len(list(orderlines_qu[\"id_order\"].unique()))\n",
        "# both tables have the same amount of order_ids\n",
        "# should be (41685, 41685)"
      ],
      "metadata": {
        "id": "UyWDt46AoDhk"
      },
      "execution_count": null,
      "outputs": []
    },
    {
      "cell_type": "markdown",
      "source": [
        "Do not forget to download your quality controlled DataFrames"
      ],
      "metadata": {
        "id": "dvyhnpLcfXdd"
      }
    },
    {
      "cell_type": "code",
      "source": [
        "orderlines_qu.info()"
      ],
      "metadata": {
        "id": "ZHIGMLKrQ_DN"
      },
      "execution_count": null,
      "outputs": []
    },
    {
      "cell_type": "code",
      "source": [
        "orders_qu.info()"
      ],
      "metadata": {
        "id": "EicDc853RD7C"
      },
      "execution_count": null,
      "outputs": []
    },
    {
      "cell_type": "code",
      "source": [
        "from google.colab import files\n",
        "\n",
        "orders_qu.to_csv(\"orders_qu.csv\", index=False)\n",
        "files.download(\"orders_qu.csv\")\n",
        "\n",
        "orderlines_qu.to_csv(\"orderlines_qu.csv\", index=False)\n",
        "files.download(\"orderlines_qu.csv\")"
      ],
      "metadata": {
        "id": "gUcJc1E6sVOl",
        "colab": {
          "base_uri": "https://localhost:8080/",
          "height": 17
        },
        "outputId": "62438dd9-eae7-42f9-91ff-6c0f5de6d6cb"
      },
      "execution_count": null,
      "outputs": [
        {
          "output_type": "display_data",
          "data": {
            "text/plain": [
              "<IPython.core.display.Javascript object>"
            ],
            "application/javascript": [
              "\n",
              "    async function download(id, filename, size) {\n",
              "      if (!google.colab.kernel.accessAllowed) {\n",
              "        return;\n",
              "      }\n",
              "      const div = document.createElement('div');\n",
              "      const label = document.createElement('label');\n",
              "      label.textContent = `Downloading \"${filename}\": `;\n",
              "      div.appendChild(label);\n",
              "      const progress = document.createElement('progress');\n",
              "      progress.max = size;\n",
              "      div.appendChild(progress);\n",
              "      document.body.appendChild(div);\n",
              "\n",
              "      const buffers = [];\n",
              "      let downloaded = 0;\n",
              "\n",
              "      const channel = await google.colab.kernel.comms.open(id);\n",
              "      // Send a message to notify the kernel that we're ready.\n",
              "      channel.send({})\n",
              "\n",
              "      for await (const message of channel.messages) {\n",
              "        // Send a message to notify the kernel that we're ready.\n",
              "        channel.send({})\n",
              "        if (message.buffers) {\n",
              "          for (const buffer of message.buffers) {\n",
              "            buffers.push(buffer);\n",
              "            downloaded += buffer.byteLength;\n",
              "            progress.value = downloaded;\n",
              "          }\n",
              "        }\n",
              "      }\n",
              "      const blob = new Blob(buffers, {type: 'application/binary'});\n",
              "      const a = document.createElement('a');\n",
              "      a.href = window.URL.createObjectURL(blob);\n",
              "      a.download = filename;\n",
              "      div.appendChild(a);\n",
              "      a.click();\n",
              "      div.remove();\n",
              "    }\n",
              "  "
            ]
          },
          "metadata": {}
        },
        {
          "output_type": "display_data",
          "data": {
            "text/plain": [
              "<IPython.core.display.Javascript object>"
            ],
            "application/javascript": [
              "download(\"download_80dfd62f-8973-4438-a5a1-bd6067a14399\", \"orders_qu.csv\", 1810668)"
            ]
          },
          "metadata": {}
        },
        {
          "output_type": "display_data",
          "data": {
            "text/plain": [
              "<IPython.core.display.Javascript object>"
            ],
            "application/javascript": [
              "\n",
              "    async function download(id, filename, size) {\n",
              "      if (!google.colab.kernel.accessAllowed) {\n",
              "        return;\n",
              "      }\n",
              "      const div = document.createElement('div');\n",
              "      const label = document.createElement('label');\n",
              "      label.textContent = `Downloading \"${filename}\": `;\n",
              "      div.appendChild(label);\n",
              "      const progress = document.createElement('progress');\n",
              "      progress.max = size;\n",
              "      div.appendChild(progress);\n",
              "      document.body.appendChild(div);\n",
              "\n",
              "      const buffers = [];\n",
              "      let downloaded = 0;\n",
              "\n",
              "      const channel = await google.colab.kernel.comms.open(id);\n",
              "      // Send a message to notify the kernel that we're ready.\n",
              "      channel.send({})\n",
              "\n",
              "      for await (const message of channel.messages) {\n",
              "        // Send a message to notify the kernel that we're ready.\n",
              "        channel.send({})\n",
              "        if (message.buffers) {\n",
              "          for (const buffer of message.buffers) {\n",
              "            buffers.push(buffer);\n",
              "            downloaded += buffer.byteLength;\n",
              "            progress.value = downloaded;\n",
              "          }\n",
              "        }\n",
              "      }\n",
              "      const blob = new Blob(buffers, {type: 'application/binary'});\n",
              "      const a = document.createElement('a');\n",
              "      a.href = window.URL.createObjectURL(blob);\n",
              "      a.download = filename;\n",
              "      div.appendChild(a);\n",
              "      a.click();\n",
              "      div.remove();\n",
              "    }\n",
              "  "
            ]
          },
          "metadata": {}
        },
        {
          "output_type": "display_data",
          "data": {
            "text/plain": [
              "<IPython.core.display.Javascript object>"
            ],
            "application/javascript": [
              "download(\"download_c2a73bb9-a726-473a-89f3-fda75435c6db\", \"orderlines_qu.csv\", 2892043)"
            ]
          },
          "metadata": {}
        }
      ]
    },
    {
      "cell_type": "markdown",
      "source": [
        "---\n",
        "### Importing quality checked data and creating new DataFrames"
      ],
      "metadata": {
        "id": "yn8Ob8QvSGdE"
      }
    },
    {
      "cell_type": "code",
      "source": [
        "import pandas as pd\n",
        "\n",
        "def gd_path(file_id):\n",
        "    \"\"\"Generate a shareable link from Google Drive file id.\"\"\"\n",
        "    return f\"https://drive.google.com/uc?export=download&id={file_id}\"\n",
        "\n",
        "# Google Drive file ids\n",
        "file_ids = {\n",
        "    \"brands\": \"1rGaU7M127HRCiBzw41Rv_SwZByHafT86\",\n",
        "    \"orderlines\": \"1dAhM7ScbCGwLWkmBRhoEw2OUL6rkzxpF\",\n",
        "    \"orders\": \"16acxvtxHTaZdwLqIpBA52tCJ1PAF80Rb\",\n",
        "    \"products\": \"1Q4NLNKEzVoSAwPq8OFOSZyfwLIXnJTen\",\n",
        "}\n",
        "\n",
        "# Read data from Google Drive\n",
        "brands_qu = pd.read_csv(gd_path(file_ids[\"brands\"]), sep=\",\")\n",
        "orderlines_qu = pd.read_csv(gd_path(file_ids[\"orderlines\"]), sep=\",\", parse_dates=[\"date\"])\n",
        "orders_qu = pd.read_csv(gd_path(file_ids[\"orders\"]), sep=\",\", parse_dates=[\"created_date\"])\n",
        "products_qu = pd.read_csv(gd_path(file_ids[\"products\"]), sep=\",\")"
      ],
      "metadata": {
        "id": "47rDgEKLSRAz"
      },
      "execution_count": null,
      "outputs": []
    },
    {
      "cell_type": "markdown",
      "source": [
        "<font color=\"red\"> The code below will create copies of each of the quality checked datasets:\n",
        "* `brands_qu` --> `brands_df`\n",
        "* `orderlines_qu` --> `orderlines_df`\n",
        "* `orders_qu` --> `orders_df`\n",
        "* `products_qu` --> `products_df`"
      ],
      "metadata": {
        "id": "uQApPQnuTkFt"
      }
    },
    {
      "cell_type": "code",
      "source": [
        "# this will create copy of the data cleaned and quality checked datasets\n",
        "brands_df = brands_qu.copy()\n",
        "orderlines_df = orderlines_qu.copy()\n",
        "orders_df = orders_qu.copy()\n",
        "products_df = products_qu.copy()"
      ],
      "metadata": {
        "id": "egrIi0R6TkFu"
      },
      "execution_count": null,
      "outputs": []
    },
    {
      "cell_type": "code",
      "source": [
        "brands_df.info()"
      ],
      "metadata": {
        "id": "dFPkzpBWTkFv"
      },
      "execution_count": null,
      "outputs": []
    },
    {
      "cell_type": "code",
      "source": [
        "orderlines_df.info()"
      ],
      "metadata": {
        "id": "FR2mpch_TkFv"
      },
      "execution_count": null,
      "outputs": []
    },
    {
      "cell_type": "code",
      "source": [
        "orders_df.info()"
      ],
      "metadata": {
        "id": "-_3Vyd2ZTkFw"
      },
      "execution_count": null,
      "outputs": []
    },
    {
      "cell_type": "code",
      "source": [
        "products_df.info()"
      ],
      "metadata": {
        "id": "RS6P9eUeTkFx"
      },
      "execution_count": null,
      "outputs": []
    },
    {
      "cell_type": "markdown",
      "source": [
        "# 8. Data Analysis"
      ],
      "metadata": {
        "id": "0lwX7tZi_Sbj"
      }
    },
    {
      "cell_type": "markdown",
      "source": [
        "### 8.1. What is the time period that the dataset covers?"
      ],
      "metadata": {
        "id": "TnN6nAOQ_Xrp"
      }
    },
    {
      "cell_type": "code",
      "source": [
        "#What is the time period the dataset covers?\n",
        "\n",
        "# Find the minimum and maximum dates in the dataset\n",
        "start_date = orders_df['created_date'].min()\n",
        "end_date = orders_df['created_date'].max()\n",
        "\n",
        "# Print the time period covered by the dataset\n",
        "print(\"Time period covered by the dataset:\")\n",
        "print(\"Start date:\", start_date)\n",
        "print(\"End date:\", end_date)"
      ],
      "metadata": {
        "colab": {
          "base_uri": "https://localhost:8080/"
        },
        "id": "j3_PLS93ZAzR",
        "outputId": "ed1baf39-b5b7-4f12-967f-e96acf75a3f0"
      },
      "execution_count": null,
      "outputs": [
        {
          "output_type": "stream",
          "name": "stdout",
          "text": [
            "Time period covered by the dataset:\n",
            "Start date: 2017-01-01 01:51:47\n",
            "End date: 2018-03-14 12:03:52\n"
          ]
        }
      ]
    },
    {
      "cell_type": "markdown",
      "source": [
        "### 8.2. What is the overall revenue for that time?"
      ],
      "metadata": {
        "id": "1uXKY4uzmhXW"
      }
    },
    {
      "cell_type": "code",
      "source": [
        "#What is the overall revenue for that time?\n",
        "\n",
        "# Filter the 'orders_df' based on the time period covered by the dataset\n",
        "filtered_orders = orders_df[(orders_df['created_date'] >= start_date) & (orders_df['created_date'] <= end_date)]\n",
        "\n",
        "# Calculate the overall revenue\n",
        "overall_revenue = filtered_orders['total_paid'].sum()\n",
        "\n",
        "# Print the overall revenue\n",
        "print(\"Overall revenue for the time period:\")\n",
        "print(overall_revenue)\n"
      ],
      "metadata": {
        "id": "SOnEh5_ZZN9i",
        "colab": {
          "base_uri": "https://localhost:8080/"
        },
        "outputId": "d7553751-e850-4d4f-b88d-8b921f20b356"
      },
      "execution_count": null,
      "outputs": [
        {
          "output_type": "stream",
          "name": "stdout",
          "text": [
            "Overall revenue for the time period:\n",
            "8158224.15\n"
          ]
        }
      ]
    },
    {
      "cell_type": "markdown",
      "source": [
        "### 8.3. Are there seasonal patterns in the evolution of sales?"
      ],
      "metadata": {
        "id": "-6PYOl6YmoIp"
      }
    },
    {
      "cell_type": "code",
      "source": [
        "#Are there seasonal patterns in the evolution of sales?\n",
        "\n",
        "import matplotlib.pyplot as plt\n",
        "\n",
        "# Extract the month and year from the 'created_date' column\n",
        "orders_df['month_year'] = orders_df['created_date'].dt.to_period('M')\n",
        "\n",
        "# Group the data by month and calculate the total sales for each month\n",
        "monthly_sales = orders_df.groupby('month_year')['total_paid'].sum()\n",
        "\n",
        "# Plot the monthly sales\n",
        "plt.figure(figsize=(10, 6))\n",
        "monthly_sales.plot(kind='line')\n",
        "plt.xlabel('Month and Year')\n",
        "plt.ylabel('Total Sales')\n",
        "plt.title('Monthly Sales Over Time')\n",
        "plt.grid(True)\n",
        "plt.show()"
      ],
      "metadata": {
        "colab": {
          "base_uri": "https://localhost:8080/",
          "height": 435
        },
        "id": "J-osZW6fZpRY",
        "outputId": "5ec1ab40-e1e0-4917-db72-c541aa509648"
      },
      "execution_count": null,
      "outputs": [
        {
          "output_type": "display_data",
          "data": {
            "text/plain": [
              "<Figure size 1000x600 with 1 Axes>"
            ],
            "image/png": "[encoded data removed]"
          },
          "metadata": {}
        }
      ]
    },
    {
      "cell_type": "markdown",
      "source": [
        "### 8.4. What are the most sold products?"
      ],
      "metadata": {
        "id": "LNcrYIoCmtge"
      }
    },
    {
      "cell_type": "code",
      "source": [
        "#What are the most sold products?\n",
        "\n",
        "# merge table\n",
        "merged_df = pd.merge(orderlines_cl, products_cl, on='sku')\n",
        "\n",
        "# Group the data by product name and calculate the total quantity sold for each product\n",
        "product_sales = merged_df.groupby('name')['product_quantity'].sum()\n",
        "\n",
        "# Sort the products by the total quantity sold in descending order\n",
        "top_sold_products = product_sales.sort_values(ascending=False)\n",
        "\n",
        "# Print the top sold products\n",
        "print(\"Top sold products:\")\n",
        "print(top_sold_products.head(10))\n"
      ],
      "metadata": {
        "colab": {
          "base_uri": "https://localhost:8080/"
        },
        "id": "gexB8ca8Z1vi",
        "outputId": "ec0d9a0c-b97e-4dc8-cb8a-5e41030f3e50"
      },
      "execution_count": null,
      "outputs": [
        {
          "output_type": "stream",
          "name": "stdout",
          "text": [
            "Top sold products:\n",
            "name\n",
            "IPhone AppleCare Protection Plan                                        5576\n",
            "Apple Lightning Cable Connector to USB 1m White (OEM)                   2337\n",
            "Red 4TB WD 35 \"Mac PC hard drive and NAS                                1828\n",
            "AirPods Apple Bluetooth Headset for iPhone iPad iPod and Apple Watch    1663\n",
            "EarPods Apple Headphones with Remote and Mic (OEM)                      1618\n",
            "Samsung 850 EVO SSD Disk 500GB                                          1346\n",
            "Apple iPhone 32GB Space Gray                                            1182\n",
            "Apple Pencil                                                            1131\n",
            "Crucial MX300 525GB SSD Disk                                            1122\n",
            "WD Red 3TB 35 \"Mac PC hard drive and NAS                                1048\n",
            "Name: product_quantity, dtype: int64\n"
          ]
        }
      ]
    },
    {
      "cell_type": "markdown",
      "source": [
        "### 8.5. What are the products that generate the most revenue?"
      ],
      "metadata": {
        "id": "mZ4OfbJ7mxjb"
      }
    },
    {
      "cell_type": "code",
      "source": [
        "#What are the products that generate the most revenue?\n",
        "\n",
        "merged_order_orderlines_df = pd.merge(orders_cl, orderlines_cl, left_on='order_id', right_on='id_order', how='inner')\n",
        "merged_product_df = pd.merge(merged_order_orderlines_df, products_cl, on='sku')\n",
        "\n",
        "# Group the data by product name and calculate the total revenue generated for each product\n",
        "product_revenue = merged_product_df.groupby('name')['total_paid'].sum()\n",
        "\n",
        "# Sort the products by the total revenue generated in descending order\n",
        "top_revenue_products = product_revenue.sort_values(ascending=False)\n",
        "\n",
        "# Print the products that generate the most revenue\n",
        "print(\"Products generating the most revenue:\")\n",
        "print(top_revenue_products.head(10))"
      ],
      "metadata": {
        "colab": {
          "base_uri": "https://localhost:8080/"
        },
        "id": "RW7ZZkrQZ_bC",
        "outputId": "9aa1ada8-b751-4710-a01c-aad340658904"
      },
      "execution_count": null,
      "outputs": [
        {
          "output_type": "stream",
          "name": "stdout",
          "text": [
            "Products generating the most revenue:\n",
            "name\n",
            "IPhone AppleCare Protection Plan                            1712284.39\n",
            "Apple Pencil                                                 847625.56\n",
            "Apple iPhone 8 Plus 64GB Gold                                805341.92\n",
            "Apple iPhone 64GB Space Gray 8                               647000.07\n",
            "Apple iPhone 8 Plus 64GB Space Gray                          598453.19\n",
            "IPad AppleCare Protection Plan                               530306.76\n",
            "Apple MacBook Air 13 \"Core i5 18GHz | 8GB RAM | 128GB SSD    499754.82\n",
            "Red 4TB WD 35 \"Mac PC hard drive and NAS                     495987.76\n",
            "Apple iPhone 32GB Space Gray                                 458195.22\n",
            "Wireless Headset iFrogz zagg Coda microphone                 449570.61\n",
            "Name: total_paid, dtype: float64\n"
          ]
        }
      ]
    }
  ]
}