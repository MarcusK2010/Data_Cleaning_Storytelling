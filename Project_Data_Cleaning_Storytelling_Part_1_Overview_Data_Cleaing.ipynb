{
  "nbformat": 4,
  "nbformat_minor": 0,
  "metadata": {
    "colab": {
      "provenance": []
    },
    "kernelspec": {
      "name": "python3",
      "display_name": "Python 3"
    },
    "language_info": {
      "name": "python"
    }
  },
  "cells": [
    {
      "cell_type": "markdown",
      "source": [
        "# Project 3 - Eniac (Data Cleaning & Storytelling)"
      ],
      "metadata": {
        "id": "te_3Cnw-Rthk"
      }
    },
    {
      "cell_type": "markdown",
      "source": [
        "## 1. Overview"
      ],
      "metadata": {
        "id": "Y5xdxO4TTP7D"
      }
    },
    {
      "cell_type": "markdown",
      "source": [
        "## 2. Function declaration & DataFrames creation"
      ],
      "metadata": {
        "id": "eWnuESpA3aGQ"
      }
    },
    {
      "cell_type": "code",
      "execution_count": null,
      "metadata": {
        "id": "yALlT7mAHXrU"
      },
      "outputs": [],
      "source": [
        "import pandas as pd\n",
        "\n",
        "def gd_path(file_id):\n",
        "    \"\"\"Generate a shareable link from Google Drive file id.\"\"\"\n",
        "    return f\"https://drive.google.com/uc?export=download&id={file_id}\"\n",
        "\n",
        "\n",
        "# Google Drive file ids\n",
        "file_ids = {\n",
        "    \"brands\": \"1GNoGAkphYToef9d3ODV4OychFVu5dl6Y\",\n",
        "    \"orderlines\": \"1Me5gWCAUsnA19ixP6NrG1pkzvSOCWeEW\",\n",
        "    \"orders\": \"1S-PLC3SzKBfhuXSXPvdFsSSy391XeKlf\",\n",
        "    \"products\": \"1e1M8hbD9CNoomB-ttq_gvzgmWTUNmQk2\",\n",
        "}\n",
        "\n",
        "# Read data from Google Drive\n",
        "brands_df = pd.read_csv(gd_path(file_ids[\"brands\"]), sep=\",\")\n",
        "orderlines_df = pd.read_csv(gd_path(file_ids[\"orderlines\"]), sep=\",\")\n",
        "orders_df = pd.read_csv(gd_path(file_ids[\"orders\"]), sep=\",\")\n",
        "products_df = pd.read_csv(gd_path(file_ids[\"products\"]), sep=\",\")"
      ]
    },
    {
      "cell_type": "markdown",
      "source": [
        "## 3. Some Info on the DataFrames\n"
      ],
      "metadata": {
        "id": "Jd0Ikg5uYQfb"
      }
    },
    {
      "cell_type": "code",
      "source": [
        "print(brands_df.head(),\"\\n\")\n",
        "print(brands_df.describe(),\"\\n\")\n",
        "print(brands_df.nunique(),\"\\n\")"
      ],
      "metadata": {
        "id": "EHKhuOHDPhgp"
      },
      "execution_count": null,
      "outputs": []
    },
    {
      "cell_type": "code",
      "source": [
        "print(orderlines_df.head(),\"\\n\")\n",
        "print(orderlines_df.describe(),\"\\n\")\n",
        "print(orderlines_df.nunique(),\"\\n\")"
      ],
      "metadata": {
        "id": "AfXz2mLkPee9"
      },
      "execution_count": null,
      "outputs": []
    },
    {
      "cell_type": "code",
      "source": [
        "print(orders_df.head(),\"\\n\")\n",
        "print(orders_df.describe(),\"\\n\")\n",
        "print(orders_df.nunique(),\"\\n\")"
      ],
      "metadata": {
        "id": "8h113J8RPbmn"
      },
      "execution_count": null,
      "outputs": []
    },
    {
      "cell_type": "code",
      "source": [
        "print(products_df.head(),\"\\n\")\n",
        "print(products_df.describe(),\"\\n\")\n",
        "print(products_df.nunique(),\"\\n\")"
      ],
      "metadata": {
        "id": "x8Nhlz-zO0SO"
      },
      "execution_count": null,
      "outputs": []
    },
    {
      "cell_type": "markdown",
      "source": [],
      "metadata": {
        "id": "D12kzN0dOmQI"
      }
    },
    {
      "cell_type": "markdown",
      "source": [
        "### Business questions\n",
        "\n",
        "1.\tHow should products be classified into different categories to simplify reports and analysis?\n",
        "2.\tWhat is the distribution of product prices across different categories?\n",
        "3.\tHow many products are being discounted?\n",
        "4.\tHow big are the offered discounts as a percentage of the product prices?\n",
        "5.\tHow do seasonality and special dates (Christmas, Black Friday) affect sales?\n",
        "6.\tHow could data collection be improved?\n"
      ],
      "metadata": {
        "id": "-UR01FuiHmhp"
      }
    },
    {
      "cell_type": "markdown",
      "source": [
        "### Practical questions / tasks\n",
        "\n",
        "1.\tAssess data quality of the dataset provided\n",
        "2.\tUndertake data cleaning tasks\n",
        "3.\tMake data usable and trustable (with the necessary disclaimer)"
      ],
      "metadata": {
        "id": "4i8mFOuEj4n9"
      }
    },
    {
      "cell_type": "markdown",
      "source": [
        "## 4. Data Cleaning `orders_df`, `orderlines_df`, and `products_df`"
      ],
      "metadata": {
        "id": "yxlCE8HbOqJb"
      }
    },
    {
      "cell_type": "markdown",
      "source": [
        "### 4.1. `orders_df`"
      ],
      "metadata": {
        "id": "b9VvpPiQTC5e"
      }
    },
    {
      "cell_type": "code",
      "source": [
        "orders_df.duplicated().sum()"
      ],
      "metadata": {
        "id": "SE9u7LoOOzTt",
        "colab": {
          "base_uri": "https://localhost:8080/"
        },
        "outputId": "43606d97-18b5-41d5-d36a-aef29c93b429"
      },
      "execution_count": null,
      "outputs": [
        {
          "output_type": "execute_result",
          "data": {
            "text/plain": [
              "0"
            ]
          },
          "metadata": {},
          "execution_count": 3
        }
      ]
    },
    {
      "cell_type": "code",
      "source": [
        "orders_df[\"created_date\"] = pd.to_datetime(orders_df[\"created_date\"])"
      ],
      "metadata": {
        "id": "i7LzPfQGSp_K"
      },
      "execution_count": null,
      "outputs": []
    },
    {
      "cell_type": "code",
      "source": [
        "orders_df = orders_df.loc[~orders_df.total_paid.isna(), :].copy()\n",
        "# Deletes missing values (Jenny)"
      ],
      "metadata": {
        "id": "PTxUG5OMyg5z"
      },
      "execution_count": null,
      "outputs": []
    },
    {
      "cell_type": "code",
      "source": [
        "orders_df.info()"
      ],
      "metadata": {
        "id": "8i5JhfYpo3H6"
      },
      "execution_count": null,
      "outputs": []
    },
    {
      "cell_type": "markdown",
      "source": [
        "### 4.2. `orderlines_df`"
      ],
      "metadata": {
        "id": "S7e0l-IubTWi"
      }
    },
    {
      "cell_type": "code",
      "source": [
        "orderlines_df.duplicated().sum()"
      ],
      "metadata": {
        "id": "8R4iXZebScYi",
        "colab": {
          "base_uri": "https://localhost:8080/"
        },
        "outputId": "7ef2fcac-b550-4825-da31-91109c41ad7f"
      },
      "execution_count": null,
      "outputs": [
        {
          "output_type": "execute_result",
          "data": {
            "text/plain": [
              "0"
            ]
          },
          "metadata": {},
          "execution_count": 4
        }
      ]
    },
    {
      "cell_type": "code",
      "source": [
        "orderlines_df[\"date\"] = pd.to_datetime(orderlines_df[\"date\"])"
      ],
      "metadata": {
        "id": "ozuRKlUKSwj0"
      },
      "execution_count": null,
      "outputs": []
    },
    {
      "cell_type": "code",
      "source": [
        "# DO NOT RUN unless you'd like to see the whole error message\n",
        "orderlines_df[\"unit_price\"] = pd.to_numeric(orderlines_df[\"unit_price\"])\n",
        "# ValueError: Unable to parse string \"1.137.99\" at position 6"
      ],
      "metadata": {
        "id": "9-mCsrbBTW8t"
      },
      "execution_count": null,
      "outputs": []
    },
    {
      "cell_type": "code",
      "source": [
        "# counts the values affected by the above error message\n",
        "orderlines_df.unit_price.str.contains(\"\\d+\\.\\d+\\.\\d+\").value_counts()"
      ],
      "metadata": {
        "id": "3zfOMEmnTjOj"
      },
      "execution_count": null,
      "outputs": []
    },
    {
      "cell_type": "code",
      "source": [
        "# gives you the percentage of the values affected by the above error\n",
        "two_dot_percentage = ((orderlines_df.unit_price.str.contains(\"\\d+\\.\\d+\\.\\d+\").value_counts()[1] / orderlines_df.shape[0])*100).round(2)\n",
        "print(f\"The 2 dot problem represents {two_dot_percentage}% of the rows in our DataFrame\")"
      ],
      "metadata": {
        "id": "yzZvwL6MTt_l"
      },
      "execution_count": null,
      "outputs": []
    },
    {
      "cell_type": "code",
      "source": [
        "# creates a list with the 2 dot problem values\n",
        "two_dot_order_ids_list = orderlines_df.loc[orderlines_df.unit_price.str.contains(\"\\d+\\.\\d+\\.\\d+\"), \"id_order\"]\n",
        "# drops the values from the list created above\n",
        "orderlines_df = orderlines_df.loc[~orderlines_df.id_order.isin(two_dot_order_ids_list)]"
      ],
      "metadata": {
        "id": "rXHITDbHT9tW"
      },
      "execution_count": null,
      "outputs": []
    },
    {
      "cell_type": "code",
      "source": [
        "# now the column can be converted to numeric\n",
        "orderlines_df[\"unit_price\"] = pd.to_numeric(orderlines_df[\"unit_price\"])"
      ],
      "metadata": {
        "id": "6V9h_LZKT_DK"
      },
      "execution_count": null,
      "outputs": []
    },
    {
      "cell_type": "code",
      "source": [
        "orderlines_df.info()"
      ],
      "metadata": {
        "id": "lSwnTOpilhJE"
      },
      "execution_count": null,
      "outputs": []
    },
    {
      "cell_type": "markdown",
      "source": [
        "### 4.3. `products_df`"
      ],
      "metadata": {
        "id": "wEQxoYZgGGHF"
      }
    },
    {
      "cell_type": "markdown",
      "source": [
        "Checking `desc`, `type` and `price`"
      ],
      "metadata": {
        "id": "_HtkKtd6MkW2"
      }
    },
    {
      "cell_type": "code",
      "source": [
        "products_df.info()#.sample(50)"
      ],
      "metadata": {
        "id": "5SCOfnOFXlEF"
      },
      "execution_count": null,
      "outputs": []
    },
    {
      "cell_type": "code",
      "source": [
        "products_df.drop_duplicates(inplace=True)\n",
        "# drops all duplicates (Jenny) (Nursah)"
      ],
      "metadata": {
        "id": "6Fe4hYNLzw8F"
      },
      "execution_count": null,
      "outputs": []
    },
    {
      "cell_type": "code",
      "source": [
        "products_df"
      ],
      "metadata": {
        "id": "puJkJ8q3sWrq"
      },
      "execution_count": null,
      "outputs": []
    },
    {
      "cell_type": "code",
      "source": [
        "#gives you the number of NaNs in \"type\"\n",
        "products_df[\"type\"].isna().sum()"
      ],
      "metadata": {
        "id": "HafspsEne8Dx"
      },
      "execution_count": null,
      "outputs": []
    },
    {
      "cell_type": "code",
      "source": [
        "# gets rid if the NaNs in \"type\"\n",
        "products_df.dropna(subset=['type'], inplace=True)\n",
        "# df.dropna(subset=[column_name], inplace=True)"
      ],
      "metadata": {
        "id": "AO7NggYbSAgE"
      },
      "execution_count": null,
      "outputs": []
    },
    {
      "cell_type": "code",
      "source": [
        "# gives you the number of NaNs in \"desc\"\n",
        "products_df[\"desc\"].isna().sum()"
      ],
      "metadata": {
        "id": "ISeiwz-RMUs2"
      },
      "execution_count": null,
      "outputs": []
    },
    {
      "cell_type": "code",
      "source": [
        "# gets rid if the NaNs in \"desc\"\n",
        "products_df.dropna(subset=['desc'], inplace=True)"
      ],
      "metadata": {
        "id": "wnDpxk_pfDO-"
      },
      "execution_count": null,
      "outputs": []
    },
    {
      "cell_type": "code",
      "source": [
        "# gives you the number of NaNs in \"price\"\n",
        "products_df[\"price\"].isna().sum()"
      ],
      "metadata": {
        "id": "vLCG3v1KNDF-"
      },
      "execution_count": null,
      "outputs": []
    },
    {
      "cell_type": "code",
      "source": [
        "# gets rid if the NaNs in \"price\"\n",
        "products_df.dropna(subset=['price'], inplace=True)"
      ],
      "metadata": {
        "id": "4hRVCB7i0M2Q"
      },
      "execution_count": null,
      "outputs": []
    },
    {
      "cell_type": "code",
      "source": [
        "products_df.isnull().sum()\n",
        "# checks if there are missing values in the products table (Jenny)"
      ],
      "metadata": {
        "id": "gKU3a32e0UTK"
      },
      "execution_count": null,
      "outputs": []
    },
    {
      "cell_type": "code",
      "source": [
        "# removes all rows with 2 dot & decimals points followed by 3 digits values in them DataFrame\n",
        "products_df = products_df.loc[(~products_df.price.astype(str).str.contains(\"\\d+\\.\\d+\\.\\d+\"))&(~products_df.price.astype(str).str.contains(\"\\d+\\.\\d{3,}\")), :]"
      ],
      "metadata": {
        "id": "NeOqbtLPgy7u"
      },
      "execution_count": null,
      "outputs": []
    },
    {
      "cell_type": "code",
      "source": [
        "# sets \"price\" column to numeric\n",
        "products_df[\"price\"] = pd.to_numeric(products_df[\"price\"])"
      ],
      "metadata": {
        "id": "XTiB3Ylcf2pd"
      },
      "execution_count": null,
      "outputs": []
    },
    {
      "cell_type": "markdown",
      "source": [
        "Checking `promo_price`"
      ],
      "metadata": {
        "id": "nDfjtCyAN2ol"
      }
    },
    {
      "cell_type": "code",
      "source": [
        "# checks the column \"promo_price\" for 2 dot and 3 digit problems and\n",
        "promo_problems_number = products.loc[(products.promo_price.astype(str).str.contains(\"\\d+\\.\\d+\\.\\d+\"))|(products.promo_price.astype(str).str.contains(\"\\d+\\.\\d{3,}\")), :].shape[0]\n",
        "# prints the number and the percentage of the values affected relative to the column\n",
        "print(f\"The column promo_price has in total {promo_problems_number} wrong values. This is {round(((promo_problems_number / products.shape[0]) * 100), 2)}% of the rows of the DataFrame\")"
      ],
      "metadata": {
        "id": "vI4ueHibtK1P"
      },
      "execution_count": null,
      "outputs": []
    },
    {
      "cell_type": "markdown",
      "source": [
        "Since the two problem seem to have affected over 90% of the values in column `promo_price`, we suggest to drop the whole column."
      ],
      "metadata": {
        "id": "I8ZZxsZ1O7Xc"
      }
    },
    {
      "cell_type": "code",
      "source": [
        "# gets rid of the whole column \"promo_price\"\n",
        "products_df = products.drop(columns=[\"promo_price\"])\n",
        "# another way of doing this is:\n",
        "products_df = products_df.drop(\"promo_price\", axis=1)"
      ],
      "metadata": {
        "id": "h8r2Ev7LOtYs"
      },
      "execution_count": null,
      "outputs": []
    },
    {
      "cell_type": "code",
      "source": [
        "# Alternative removes the 1st dot\n",
        "products_df[\"promo_price\"] = products_df[\"promo_price\"].str.replace(r'(\\.\\d+)\\.', r'\\1')"
      ],
      "metadata": {
        "id": "mwjM02ueP2Rh"
      },
      "execution_count": null,
      "outputs": []
    },
    {
      "cell_type": "markdown",
      "source": [
        "Check the info on `products_df`, `orders_df`, and `orderlines_df`"
      ],
      "metadata": {
        "id": "AVcDx1aiPp7g"
      }
    },
    {
      "cell_type": "code",
      "source": [
        "orders_df.info()"
      ],
      "metadata": {
        "id": "RyioHcrBs_SW"
      },
      "execution_count": null,
      "outputs": []
    },
    {
      "cell_type": "code",
      "source": [
        "orderlines_df.info()"
      ],
      "metadata": {
        "id": "QgDytOo9tCLm"
      },
      "execution_count": null,
      "outputs": []
    },
    {
      "cell_type": "code",
      "source": [
        "products_df.info()"
      ],
      "metadata": {
        "id": "Hwwdtw0jhB-t"
      },
      "execution_count": null,
      "outputs": []
    },
    {
      "cell_type": "markdown",
      "source": [
        "## 5. Download Cleaned DataFrames"
      ],
      "metadata": {
        "id": "YUQFV3xXXGEL"
      }
    },
    {
      "cell_type": "code",
      "source": [
        "from google.colab import files\n",
        "\n",
        "#orders_df.to_csv(\"orders_cl.csv\", index=False)\n",
        "#files.download(\"orders_cl.csv\")\n",
        "\n",
        "#orderlines_df.to_csv(\"orderlines_cl.csv\", index=False)\n",
        "#files.download(\"orderlines_cl.csv\")\n",
        "\n",
        "products_df.to_csv(\"products_cl.csv\", index=False)\n",
        "files.download(\"products_cl.csv\")"
      ],
      "metadata": {
        "id": "ccXcpDXRXNay"
      },
      "execution_count": null,
      "outputs": []
    },
    {
      "cell_type": "markdown",
      "source": [
        "---\n",
        "<font color=\"red\"> The code of the above cell will download the cleaned datasets with the following names:</font>\n",
        "* `brands_cl.csv`\n",
        "* `orderlines_cl.csv`\n",
        "* `orders_cl.csv`\n",
        "* `products_cl.csv`\n",
        "\n",
        "---"
      ],
      "metadata": {
        "id": "2TJ4EL1AeORx"
      }
    }
  ]
}